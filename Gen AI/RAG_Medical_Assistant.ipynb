{
  "nbformat": 4,
  "nbformat_minor": 0,
  "metadata": {
    "colab": {
      "provenance": []
    },
    "kernelspec": {
      "name": "python3",
      "display_name": "Python 3"
    },
    "language_info": {
      "name": "python"
    }
  },
  "cells": [
    {
      "cell_type": "markdown",
      "source": [
        "# Install Require Packages"
      ],
      "metadata": {
        "id": "Wh3lRSlG6Oo5"
      }
    },
    {
      "cell_type": "code",
      "source": [
        "!pip install langchain --quiet\n",
        "!pip install langchain-community --quiet\n",
        "!pip install Cohere --quiet\n",
        "!pip install wikipedia --quiet\n",
        "!pip install chromadb --quiet"
      ],
      "metadata": {
        "id": "FkeXHfZ4T1y0",
        "colab": {
          "base_uri": "https://localhost:8080/"
        },
        "outputId": "b0d6862f-4930-4c1f-cdcb-bca51fd161ee"
      },
      "execution_count": null,
      "outputs": [
        {
          "output_type": "stream",
          "name": "stdout",
          "text": [
            "\u001b[2K   \u001b[90m━━━━━━━━━━━━━━━━━━━━━━━━━━━━━━━━━━━━━━━━\u001b[0m \u001b[32m2.5/2.5 MB\u001b[0m \u001b[31m16.6 MB/s\u001b[0m eta \u001b[36m0:00:00\u001b[0m\n",
            "\u001b[2K   \u001b[90m━━━━━━━━━━━━━━━━━━━━━━━━━━━━━━━━━━━━━━━━\u001b[0m \u001b[32m44.4/44.4 kB\u001b[0m \u001b[31m1.9 MB/s\u001b[0m eta \u001b[36m0:00:00\u001b[0m\n",
            "\u001b[2K   \u001b[90m━━━━━━━━━━━━━━━━━━━━━━━━━━━━━━━━━━━━━━━━\u001b[0m \u001b[32m50.9/50.9 kB\u001b[0m \u001b[31m2.6 MB/s\u001b[0m eta \u001b[36m0:00:00\u001b[0m\n",
            "\u001b[2K   \u001b[90m━━━━━━━━━━━━━━━━━━━━━━━━━━━━━━━━━━━━━━━━\u001b[0m \u001b[32m259.5/259.5 kB\u001b[0m \u001b[31m7.9 MB/s\u001b[0m eta \u001b[36m0:00:00\u001b[0m\n",
            "\u001b[2K   \u001b[90m━━━━━━━━━━━━━━━━━━━━━━━━━━━━━━━━━━━━━━━━\u001b[0m \u001b[32m3.3/3.3 MB\u001b[0m \u001b[31m59.2 MB/s\u001b[0m eta \u001b[36m0:00:00\u001b[0m\n",
            "\u001b[?25h  Preparing metadata (setup.py) ... \u001b[?25l\u001b[?25hdone\n",
            "  Building wheel for wikipedia (setup.py) ... \u001b[?25l\u001b[?25hdone\n",
            "\u001b[2K     \u001b[90m━━━━━━━━━━━━━━━━━━━━━━━━━━━━━━━━━━━━━━━━\u001b[0m \u001b[32m67.3/67.3 kB\u001b[0m \u001b[31m5.6 MB/s\u001b[0m eta \u001b[36m0:00:00\u001b[0m\n",
            "\u001b[?25h  Installing build dependencies ... \u001b[?25l\u001b[?25hdone\n",
            "  Getting requirements to build wheel ... \u001b[?25l\u001b[?25hdone\n",
            "  Preparing metadata (pyproject.toml) ... \u001b[?25l\u001b[?25hdone\n",
            "\u001b[2K   \u001b[90m━━━━━━━━━━━━━━━━━━━━━━━━━━━━━━━━━━━━━━━━\u001b[0m \u001b[32m19.3/19.3 MB\u001b[0m \u001b[31m98.0 MB/s\u001b[0m eta \u001b[36m0:00:00\u001b[0m\n",
            "\u001b[2K   \u001b[90m━━━━━━━━━━━━━━━━━━━━━━━━━━━━━━━━━━━━━━━━\u001b[0m \u001b[32m94.9/94.9 kB\u001b[0m \u001b[31m6.9 MB/s\u001b[0m eta \u001b[36m0:00:00\u001b[0m\n",
            "\u001b[2K   \u001b[90m━━━━━━━━━━━━━━━━━━━━━━━━━━━━━━━━━━━━━━━━\u001b[0m \u001b[32m284.2/284.2 kB\u001b[0m \u001b[31m23.9 MB/s\u001b[0m eta \u001b[36m0:00:00\u001b[0m\n",
            "\u001b[2K   \u001b[90m━━━━━━━━━━━━━━━━━━━━━━━━━━━━━━━━━━━━━━━━\u001b[0m \u001b[32m2.0/2.0 MB\u001b[0m \u001b[31m81.5 MB/s\u001b[0m eta \u001b[36m0:00:00\u001b[0m\n",
            "\u001b[2K   \u001b[90m━━━━━━━━━━━━━━━━━━━━━━━━━━━━━━━━━━━━━━━━\u001b[0m \u001b[32m101.6/101.6 kB\u001b[0m \u001b[31m3.7 MB/s\u001b[0m eta \u001b[36m0:00:00\u001b[0m\n",
            "\u001b[2K   \u001b[90m━━━━━━━━━━━━━━━━━━━━━━━━━━━━━━━━━━━━━━━━\u001b[0m \u001b[32m16.4/16.4 MB\u001b[0m \u001b[31m60.6 MB/s\u001b[0m eta \u001b[36m0:00:00\u001b[0m\n",
            "\u001b[2K   \u001b[90m━━━━━━━━━━━━━━━━━━━━━━━━━━━━━━━━━━━━━━━━\u001b[0m \u001b[32m65.8/65.8 kB\u001b[0m \u001b[31m5.1 MB/s\u001b[0m eta \u001b[36m0:00:00\u001b[0m\n",
            "\u001b[2K   \u001b[90m━━━━━━━━━━━━━━━━━━━━━━━━━━━━━━━━━━━━━━━━\u001b[0m \u001b[32m55.7/55.7 kB\u001b[0m \u001b[31m4.6 MB/s\u001b[0m eta \u001b[36m0:00:00\u001b[0m\n",
            "\u001b[2K   \u001b[90m━━━━━━━━━━━━━━━━━━━━━━━━━━━━━━━━━━━━━━━━\u001b[0m \u001b[32m196.2/196.2 kB\u001b[0m \u001b[31m16.1 MB/s\u001b[0m eta \u001b[36m0:00:00\u001b[0m\n",
            "\u001b[2K   \u001b[90m━━━━━━━━━━━━━━━━━━━━━━━━━━━━━━━━━━━━━━━━\u001b[0m \u001b[32m118.4/118.4 kB\u001b[0m \u001b[31m9.9 MB/s\u001b[0m eta \u001b[36m0:00:00\u001b[0m\n",
            "\u001b[2K   \u001b[90m━━━━━━━━━━━━━━━━━━━━━━━━━━━━━━━━━━━━━━━━\u001b[0m \u001b[32m96.7/96.7 kB\u001b[0m \u001b[31m8.2 MB/s\u001b[0m eta \u001b[36m0:00:00\u001b[0m\n",
            "\u001b[2K   \u001b[90m━━━━━━━━━━━━━━━━━━━━━━━━━━━━━━━━━━━━━━━━\u001b[0m \u001b[32m459.8/459.8 kB\u001b[0m \u001b[31m30.4 MB/s\u001b[0m eta \u001b[36m0:00:00\u001b[0m\n",
            "\u001b[2K   \u001b[90m━━━━━━━━━━━━━━━━━━━━━━━━━━━━━━━━━━━━━━━━\u001b[0m \u001b[32m71.5/71.5 kB\u001b[0m \u001b[31m6.3 MB/s\u001b[0m eta \u001b[36m0:00:00\u001b[0m\n",
            "\u001b[2K   \u001b[90m━━━━━━━━━━━━━━━━━━━━━━━━━━━━━━━━━━━━━━━━\u001b[0m \u001b[32m4.0/4.0 MB\u001b[0m \u001b[31m97.8 MB/s\u001b[0m eta \u001b[36m0:00:00\u001b[0m\n",
            "\u001b[2K   \u001b[90m━━━━━━━━━━━━━━━━━━━━━━━━━━━━━━━━━━━━━━━━\u001b[0m \u001b[32m454.8/454.8 kB\u001b[0m \u001b[31m30.7 MB/s\u001b[0m eta \u001b[36m0:00:00\u001b[0m\n",
            "\u001b[2K   \u001b[90m━━━━━━━━━━━━━━━━━━━━━━━━━━━━━━━━━━━━━━━━\u001b[0m \u001b[32m46.0/46.0 kB\u001b[0m \u001b[31m3.7 MB/s\u001b[0m eta \u001b[36m0:00:00\u001b[0m\n",
            "\u001b[2K   \u001b[90m━━━━━━━━━━━━━━━━━━━━━━━━━━━━━━━━━━━━━━━━\u001b[0m \u001b[32m86.8/86.8 kB\u001b[0m \u001b[31m7.1 MB/s\u001b[0m eta \u001b[36m0:00:00\u001b[0m\n",
            "\u001b[?25h  Building wheel for pypika (pyproject.toml) ... \u001b[?25l\u001b[?25hdone\n"
          ]
        }
      ]
    },
    {
      "cell_type": "markdown",
      "source": [
        "# Importing Dependencies"
      ],
      "metadata": {
        "id": "9eNri6DbV_B-"
      }
    },
    {
      "cell_type": "code",
      "source": [
        "import os\n",
        "from google.colab import userdata\n",
        "import langchain\n",
        "from langchain.schema import Document\n",
        "from langchain.llms import Cohere\n",
        "from langchain.document_loaders import WikipediaLoader\n",
        "from langchain.text_splitter import RecursiveCharacterTextSplitter\n",
        "from langchain.embeddings import CohereEmbeddings\n",
        "from langchain.vectorstores import Chroma\n",
        "from langchain.memory import ConversationBufferMemory\n",
        "from langchain.chains import ConversationalRetrievalChain\n",
        "from langchain.retrievers import MultiQueryRetriever\n",
        "from langchain.chat_models import ChatCohere"
      ],
      "metadata": {
        "id": "oP5pWv-sULru"
      },
      "execution_count": null,
      "outputs": []
    },
    {
      "cell_type": "markdown",
      "source": [
        "# Api Key"
      ],
      "metadata": {
        "id": "Vf8iBFoSYG9P"
      }
    },
    {
      "cell_type": "code",
      "source": [
        "os.environ['COHERE_API_KEY'] = userdata.get('Cohere')"
      ],
      "metadata": {
        "id": "yQQnkqINYG4E"
      },
      "execution_count": null,
      "outputs": []
    },
    {
      "cell_type": "markdown",
      "source": [
        "# Getting The Information From Wikipedia"
      ],
      "metadata": {
        "id": "myA6CBapUC6v"
      }
    },
    {
      "cell_type": "code",
      "source": [
        "diseases = [\"Diabetes\", \"Hypertension\", \"Asthma\", \"Tuberculosis\", \"Cancer\", \"Malaria\"]"
      ],
      "metadata": {
        "id": "mf9uUgMMUR0R"
      },
      "execution_count": null,
      "outputs": []
    },
    {
      "cell_type": "code",
      "source": [
        "documents = []\n",
        "for disease in diseases:\n",
        "    loader = WikipediaLoader(query=disease, lang='en')\n",
        "    docs = loader.load()\n",
        "    documents.extend(docs)\n"
      ],
      "metadata": {
        "id": "L9Is3CTI3JdW"
      },
      "execution_count": null,
      "outputs": []
    },
    {
      "cell_type": "code",
      "source": [
        "treatment_docs = []\n",
        "for doc in documents:\n",
        "    content = doc.page_content\n",
        "    title = doc.metadata.get(\"title\", \"Unknown Disease\")\n",
        "\n",
        "    # Simple extraction of the 'Treatment' section\n",
        "    treatment_section = \"\"\n",
        "    if \"== Treatment\" in content:\n",
        "        start = content.find(\"== Treatment\")\n",
        "        end = content.find(\"==\", start + 1)\n",
        "        treatment_section = content[start:end].strip() if end != -1 else content[start:].strip()\n",
        "\n",
        "    combined_content = f\"Disease: {title}\\n\\n{treatment_section}\"\n",
        "    treatment_docs.append(Document(page_content=combined_content, metadata={\"source\": title}))\n"
      ],
      "metadata": {
        "id": "1LGFVl2H4A9H"
      },
      "execution_count": null,
      "outputs": []
    },
    {
      "cell_type": "markdown",
      "source": [
        "# Split The Data-Set Into Chunking"
      ],
      "metadata": {
        "id": "5K_3D77QVt_W"
      }
    },
    {
      "cell_type": "code",
      "source": [
        "split_data = RecursiveCharacterTextSplitter(chunk_size=2000 , chunk_overlap=200)\n",
        "\n",
        "chunk = split_data.split_documents(treatment_docs)"
      ],
      "metadata": {
        "id": "xxuHdDs4V63y"
      },
      "execution_count": null,
      "outputs": []
    },
    {
      "cell_type": "markdown",
      "source": [
        "# Vector Embeddings & Data-Base"
      ],
      "metadata": {
        "id": "xvyXvMQ-Xpk_"
      }
    },
    {
      "cell_type": "code",
      "source": [
        "embedding = CohereEmbeddings(user_agent='langchain')"
      ],
      "metadata": {
        "id": "VWc_2P4yX_PX"
      },
      "execution_count": null,
      "outputs": []
    },
    {
      "cell_type": "code",
      "source": [
        "db = Chroma.from_documents(\n",
        "    chunk,\n",
        "    embedding,\n",
        "    persist_directory='./db'\n",
        ")\n",
        "\n",
        "db.persist()"
      ],
      "metadata": {
        "id": "1DW9ncqHYDpR"
      },
      "execution_count": null,
      "outputs": []
    },
    {
      "cell_type": "markdown",
      "source": [
        "# Save The Data-Base"
      ],
      "metadata": {
        "id": "VpXphxgiLCHl"
      }
    },
    {
      "cell_type": "code",
      "source": [
        "!zip -r chroma_db.zip db"
      ],
      "metadata": {
        "colab": {
          "base_uri": "https://localhost:8080/"
        },
        "id": "w5ScZahzLCE8",
        "outputId": "8a9b44eb-dd70-47e6-aec6-3ee1f338afaf"
      },
      "execution_count": null,
      "outputs": [
        {
          "output_type": "stream",
          "name": "stdout",
          "text": [
            "  adding: db/ (stored 0%)\n",
            "  adding: db/cc9529fd-a9cb-4d7f-8a16-71b8747ac9d8/ (stored 0%)\n",
            "  adding: db/cc9529fd-a9cb-4d7f-8a16-71b8747ac9d8/link_lists.bin (stored 0%)\n",
            "  adding: db/cc9529fd-a9cb-4d7f-8a16-71b8747ac9d8/header.bin (deflated 61%)\n",
            "  adding: db/cc9529fd-a9cb-4d7f-8a16-71b8747ac9d8/data_level0.bin (deflated 100%)\n",
            "  adding: db/cc9529fd-a9cb-4d7f-8a16-71b8747ac9d8/length.bin (deflated 100%)\n",
            "  adding: db/chroma.sqlite3 (deflated 50%)\n"
          ]
        }
      ]
    },
    {
      "cell_type": "code",
      "source": [
        "from google.colab import files\n",
        "files.download(\"chroma_db.zip\")\n"
      ],
      "metadata": {
        "colab": {
          "base_uri": "https://localhost:8080/",
          "height": 17
        },
        "id": "-6ypW9afPflv",
        "outputId": "649034ac-6da8-4fc2-ff88-86c0ee74d448"
      },
      "execution_count": null,
      "outputs": [
        {
          "output_type": "display_data",
          "data": {
            "text/plain": [
              "<IPython.core.display.Javascript object>"
            ],
            "application/javascript": [
              "\n",
              "    async function download(id, filename, size) {\n",
              "      if (!google.colab.kernel.accessAllowed) {\n",
              "        return;\n",
              "      }\n",
              "      const div = document.createElement('div');\n",
              "      const label = document.createElement('label');\n",
              "      label.textContent = `Downloading \"${filename}\": `;\n",
              "      div.appendChild(label);\n",
              "      const progress = document.createElement('progress');\n",
              "      progress.max = size;\n",
              "      div.appendChild(progress);\n",
              "      document.body.appendChild(div);\n",
              "\n",
              "      const buffers = [];\n",
              "      let downloaded = 0;\n",
              "\n",
              "      const channel = await google.colab.kernel.comms.open(id);\n",
              "      // Send a message to notify the kernel that we're ready.\n",
              "      channel.send({})\n",
              "\n",
              "      for await (const message of channel.messages) {\n",
              "        // Send a message to notify the kernel that we're ready.\n",
              "        channel.send({})\n",
              "        if (message.buffers) {\n",
              "          for (const buffer of message.buffers) {\n",
              "            buffers.push(buffer);\n",
              "            downloaded += buffer.byteLength;\n",
              "            progress.value = downloaded;\n",
              "          }\n",
              "        }\n",
              "      }\n",
              "      const blob = new Blob(buffers, {type: 'application/binary'});\n",
              "      const a = document.createElement('a');\n",
              "      a.href = window.URL.createObjectURL(blob);\n",
              "      a.download = filename;\n",
              "      div.appendChild(a);\n",
              "      a.click();\n",
              "      div.remove();\n",
              "    }\n",
              "  "
            ]
          },
          "metadata": {}
        },
        {
          "output_type": "display_data",
          "data": {
            "text/plain": [
              "<IPython.core.display.Javascript object>"
            ],
            "application/javascript": [
              "download(\"download_a9ee74d9-8d35-4406-b7fc-fdda3970f630\", \"chroma_db.zip\", 2778581)"
            ]
          },
          "metadata": {}
        }
      ]
    },
    {
      "cell_type": "markdown",
      "source": [
        "# Set-Up Memory Modules"
      ],
      "metadata": {
        "id": "YIQHk3SNYu_Y"
      }
    },
    {
      "cell_type": "code",
      "source": [
        "memory = ConversationBufferMemory(\n",
        "    memory_key='chat_history' ,\n",
        "    return_messages=True ,\n",
        "    output_key='answer')"
      ],
      "metadata": {
        "id": "JRtK_JPxavmA"
      },
      "execution_count": null,
      "outputs": []
    },
    {
      "cell_type": "markdown",
      "source": [
        "# Set-Up MultiQueryRetriever"
      ],
      "metadata": {
        "id": "lyo_AwElelw9"
      }
    },
    {
      "cell_type": "code",
      "source": [
        "retriever = db.as_retriever()\n",
        "llm = Cohere()\n",
        "\n",
        "multi_query_retriver = MultiQueryRetriever.from_llm(\n",
        "    retriever = retriever,\n",
        "    llm = llm\n",
        ")"
      ],
      "metadata": {
        "id": "pvqZ5xkGemj-"
      },
      "execution_count": null,
      "outputs": []
    },
    {
      "cell_type": "markdown",
      "source": [
        "# Initialize Conversational Retrieval Chain"
      ],
      "metadata": {
        "id": "aI12eA5TbPfu"
      }
    },
    {
      "cell_type": "code",
      "source": [
        "chain = ConversationalRetrievalChain.from_llm(\n",
        "    llm = llm,\n",
        "    retriever = multi_query_retriver,\n",
        "    memory = memory,\n",
        "    return_source_documents = True\n",
        ")"
      ],
      "metadata": {
        "id": "53_62P9HbS6u"
      },
      "execution_count": null,
      "outputs": []
    },
    {
      "cell_type": "markdown",
      "source": [
        "# Interact with the Chatbot"
      ],
      "metadata": {
        "id": "6fxl2WPDbueT"
      }
    },
    {
      "cell_type": "code",
      "source": [
        "query = \"What is Diabetes?\"\n",
        "\n",
        "result = chain({\"question\" : query})\n",
        "\n",
        "print(result['answer'])"
      ],
      "metadata": {
        "colab": {
          "base_uri": "https://localhost:8080/"
        },
        "id": "demoSL8N4vmg",
        "outputId": "888b5c39-0263-48ae-a9a2-628ea90600dc"
      },
      "execution_count": null,
      "outputs": [
        {
          "output_type": "stream",
          "name": "stdout",
          "text": [
            " Diabetes is a metabolic disease where the body cannot make or properly use insulin, resulting in elevated levels of glucose in the blood. \n",
            "\n",
            "There are two primary types of diabetes: type 1 and type 2. Type 1 diabetes occurs when the body cannot produce insulin, and type 2 diabetes occurs when the body cannot properly use insulin. Both types require ongoing medical care and management to prevent complications. \n",
            "\n",
            "Would you like me to go into more detail on the characteristics of each type of diabetes? \n"
          ]
        }
      ]
    },
    {
      "cell_type": "code",
      "source": [
        "query = \"what is the treatment ?\"\n",
        "\n",
        "result = chain({\"question\" : query})\n",
        "\n",
        "print(result['answer'])"
      ],
      "metadata": {
        "colab": {
          "base_uri": "https://localhost:8080/"
        },
        "id": "QTiT4aiY44Kf",
        "outputId": "5516b50e-6d1d-42f0-9735-6526001bb7d9"
      },
      "execution_count": null,
      "outputs": [
        {
          "output_type": "stream",
          "name": "stdout",
          "text": [
            " I cannot provide a specific treatment for diabetes, as it varies significantly between different types of the disease. However, I can provide a brief overview of some common treatments. \n",
            "\n",
            "Type 1 diabetes is usually managed with insulin, and it is also important to closely monitor blood sugar levels and make healthy dietary and lifestyle choices. People with type 2 diabetes may be able to manage the condition with diet and exercise, however, many people with type 2 diabetes require oral medication or insulin injections to manage the disease. \n",
            "\n",
            "People with diabetes may also benefit from adding or adjusting dietary supplements, such as metformin, semaglutide, and thiazolidinediones, to their treatment plan. \n",
            "\n",
            "It is important to consult a healthcare professional for personalized advice and treatment recommendations. \n"
          ]
        }
      ]
    },
    {
      "cell_type": "code",
      "source": [
        "query = \"what type of diabetes are there?\"\n",
        "\n",
        "result = chain({\"question\" : query})\n",
        "\n",
        "if not result[\"source_documents\"]:\n",
        "    print(\"Sorry, I couldn't find information about that.\")\n",
        "else:\n",
        "    print(result[\"answer\"])"
      ],
      "metadata": {
        "id": "vm8SWl-pfqRs",
        "colab": {
          "base_uri": "https://localhost:8080/"
        },
        "outputId": "4cb22dcd-1563-4a44-9a97-363fb68a935b"
      },
      "execution_count": null,
      "outputs": [
        {
          "output_type": "stream",
          "name": "stdout",
          "text": [
            " Type 1 diabetes is when the pancreas produces no or very little insulin, so a person has to inject insulin regularly. Type 2 diabetes is when the body's cells stop responding to insulin normally, and the pancreas doesn't make enough insulin to compensate. \n",
            "\n",
            "Both types of diabetes are chronic conditions, but the causes, development, and treatment differ. Would you like me to go into more detail on any of these differences? \n"
          ]
        }
      ]
    },
    {
      "cell_type": "code",
      "source": [],
      "metadata": {
        "id": "RD-U8FbI5CWM"
      },
      "execution_count": null,
      "outputs": []
    }
  ]
}